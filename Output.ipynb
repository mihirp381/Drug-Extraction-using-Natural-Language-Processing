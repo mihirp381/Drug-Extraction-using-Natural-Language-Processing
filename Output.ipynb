{
 "cells": [
  {
   "cell_type": "code",
   "execution_count": 99,
   "id": "173b8c35",
   "metadata": {},
   "outputs": [],
   "source": [
    "import pandas as pd\n",
    "import numpy as np\n",
    "import ast\n",
    "import requests"
   ]
  },
  {
   "cell_type": "code",
   "execution_count": 5,
   "id": "5691d032",
   "metadata": {},
   "outputs": [],
   "source": [
    "SMILES = pd.read_csv(\"SMILES.csv\")\n",
    "SMILES.drop(['Unnamed: 0'], axis = 1, inplace = True)"
   ]
  },
  {
   "cell_type": "code",
   "execution_count": 77,
   "id": "8777bbfa",
   "metadata": {},
   "outputs": [],
   "source": [
    "Preds = pd.read_csv(\"Final_Predictions.csv\")\n",
    "Preds.drop(['Unnamed: 0'], axis = 1, inplace = True)\n",
    "Preds.rename({'drug': 'Drug'}, axis = 1, inplace = True)"
   ]
  },
  {
   "cell_type": "code",
   "execution_count": 78,
   "id": "cf240d74",
   "metadata": {},
   "outputs": [],
   "source": [
    "Final= Preds.merge(SMILES, on = \"Drug\", how = \"left\")"
   ]
  },
  {
   "cell_type": "code",
   "execution_count": 79,
   "id": "f4c55695",
   "metadata": {},
   "outputs": [],
   "source": [
    "Final.dropna(how = 'any', inplace = True)"
   ]
  },
  {
   "cell_type": "code",
   "execution_count": 80,
   "id": "b504e364",
   "metadata": {},
   "outputs": [],
   "source": [
    "Final['Activity'] = Final['Predictions'].apply(lambda x: 'BCRP_substrate' if x < 0.19 else 'BCRP_inhibitor')"
   ]
  },
  {
   "cell_type": "code",
   "execution_count": 81,
   "id": "a9d87f6d",
   "metadata": {},
   "outputs": [],
   "source": [
    "Final.to_csv(\"Final_Output.csv\")"
   ]
  },
  {
   "cell_type": "code",
   "execution_count": 82,
   "id": "41d5f491",
   "metadata": {},
   "outputs": [],
   "source": [
    "Final.drop(['Predictions'], axis = 1, inplace = True)"
   ]
  },
  {
   "cell_type": "code",
   "execution_count": 83,
   "id": "fce8034b",
   "metadata": {},
   "outputs": [
    {
     "data": {
      "text/plain": [
       "Activity\n",
       "BCRP_substrate    4483\n",
       "BCRP_inhibitor    3611\n",
       "Name: count, dtype: int64"
      ]
     },
     "execution_count": 83,
     "metadata": {},
     "output_type": "execute_result"
    }
   ],
   "source": [
    "Final['Activity'].value_counts()"
   ]
  },
  {
   "cell_type": "code",
   "execution_count": 87,
   "id": "896858fb",
   "metadata": {},
   "outputs": [],
   "source": [
    "Final['References'] = Final['References'].apply(lambda x: ast.literal_eval(x))"
   ]
  },
  {
   "cell_type": "code",
   "execution_count": 88,
   "id": "90e4bd57",
   "metadata": {},
   "outputs": [],
   "source": [
    "exploded = Final.explode('References')"
   ]
  },
  {
   "cell_type": "code",
   "execution_count": 89,
   "id": "097b37ef",
   "metadata": {},
   "outputs": [],
   "source": [
    "unique_values_df = pd.DataFrame(exploded['References'].unique(), columns=['References'])\n",
    "\n",
    "# Create a dictionary that maps values to the index in the reference DataFrame\n",
    "value_to_index = {value: idx for idx, value in unique_values_df.reset_index().values}\n",
    "\n",
    "# Replace the values in the exploded DataFrame with the index from the reference DataFrame\n",
    "exploded['References_Mapped'] = exploded['References'].map(value_to_index)\n"
   ]
  },
  {
   "cell_type": "code",
   "execution_count": 90,
   "id": "d0647ed6",
   "metadata": {},
   "outputs": [
    {
     "data": {
      "text/html": [
       "<div>\n",
       "<style scoped>\n",
       "    .dataframe tbody tr th:only-of-type {\n",
       "        vertical-align: middle;\n",
       "    }\n",
       "\n",
       "    .dataframe tbody tr th {\n",
       "        vertical-align: top;\n",
       "    }\n",
       "\n",
       "    .dataframe thead th {\n",
       "        text-align: right;\n",
       "    }\n",
       "</style>\n",
       "<table border=\"1\" class=\"dataframe\">\n",
       "  <thead>\n",
       "    <tr style=\"text-align: right;\">\n",
       "      <th></th>\n",
       "      <th>Drug</th>\n",
       "      <th>References</th>\n",
       "      <th>SMILES</th>\n",
       "      <th>Activity</th>\n",
       "      <th>References_Mapped</th>\n",
       "    </tr>\n",
       "  </thead>\n",
       "  <tbody>\n",
       "    <tr>\n",
       "      <th>2</th>\n",
       "      <td>(+)-catechin</td>\n",
       "      <td>PMC6470784</td>\n",
       "      <td>C1C(C(OC2=CC(=CC(=C21)O)O)C3=CC(=C(C=C3)O)O)O</td>\n",
       "      <td>BCRP_inhibitor</td>\n",
       "      <td>0</td>\n",
       "    </tr>\n",
       "    <tr>\n",
       "      <th>3</th>\n",
       "      <td>(+)-gallocatechin</td>\n",
       "      <td>PMC6470784</td>\n",
       "      <td>C1C(C(OC2=CC(=CC(=C21)O)O)C3=CC(=C(C(=C3)O)O)O)O</td>\n",
       "      <td>BCRP_inhibitor</td>\n",
       "      <td>0</td>\n",
       "    </tr>\n",
       "    <tr>\n",
       "      <th>4</th>\n",
       "      <td>(+)-naloxone</td>\n",
       "      <td>PMC5725546</td>\n",
       "      <td>C=CCN1CCC23C4C(=O)CCC2(C1CC5=C3C(=C(C=C5)O)O4)O</td>\n",
       "      <td>BCRP_substrate</td>\n",
       "      <td>1</td>\n",
       "    </tr>\n",
       "    <tr>\n",
       "      <th>6</th>\n",
       "      <td>(-)-epicatechin</td>\n",
       "      <td>PMC4761526</td>\n",
       "      <td>C1C(C(OC2=CC(=CC(=C21)O)O)C3=CC(=C(C=C3)O)O)O</td>\n",
       "      <td>BCRP_inhibitor</td>\n",
       "      <td>2</td>\n",
       "    </tr>\n",
       "    <tr>\n",
       "      <th>7</th>\n",
       "      <td>(-)-epigallocatechin gallate</td>\n",
       "      <td>PMC9376584</td>\n",
       "      <td>C1C(C(OC2=CC(=CC(=C21)O)O)C3=CC(=C(C(=C3)O)O)O...</td>\n",
       "      <td>BCRP_inhibitor</td>\n",
       "      <td>3</td>\n",
       "    </tr>\n",
       "    <tr>\n",
       "      <th>...</th>\n",
       "      <td>...</td>\n",
       "      <td>...</td>\n",
       "      <td>...</td>\n",
       "      <td>...</td>\n",
       "      <td>...</td>\n",
       "    </tr>\n",
       "    <tr>\n",
       "      <th>18616</th>\n",
       "      <td>zosuquidar</td>\n",
       "      <td>PMC2258302</td>\n",
       "      <td>C1CN(CCN1CC(COC2=CC=CC3=C2C=CC=N3)O)C4C5=CC=CC...</td>\n",
       "      <td>BCRP_inhibitor</td>\n",
       "      <td>4598</td>\n",
       "    </tr>\n",
       "    <tr>\n",
       "      <th>18617</th>\n",
       "      <td>zosuquidar hydrochloride</td>\n",
       "      <td>PMC8400349</td>\n",
       "      <td>C1CN(CCN1CC(COC2=CC=CC3=C2C=CC=N3)O)C4C5=CC=CC...</td>\n",
       "      <td>BCRP_inhibitor</td>\n",
       "      <td>5815</td>\n",
       "    </tr>\n",
       "    <tr>\n",
       "      <th>18618</th>\n",
       "      <td>zosuquidar trihydrochloride</td>\n",
       "      <td>PMC5713259</td>\n",
       "      <td>C1CN(CCN1CC(COC2=CC=CC3=C2C=CC=N3)O)C4C5=CC=CC...</td>\n",
       "      <td>BCRP_substrate</td>\n",
       "      <td>3034</td>\n",
       "    </tr>\n",
       "    <tr>\n",
       "      <th>18619</th>\n",
       "      <td>zoxazolamine</td>\n",
       "      <td>PMC4963026</td>\n",
       "      <td>C1=CC2=C(C=C1Cl)N=C(O2)N</td>\n",
       "      <td>BCRP_substrate</td>\n",
       "      <td>1001</td>\n",
       "    </tr>\n",
       "    <tr>\n",
       "      <th>18622</th>\n",
       "      <td>zymosan</td>\n",
       "      <td>PMC6017720</td>\n",
       "      <td>C(C1C(C(C(C(O1)O)O)O)O)O</td>\n",
       "      <td>BCRP_inhibitor</td>\n",
       "      <td>209</td>\n",
       "    </tr>\n",
       "  </tbody>\n",
       "</table>\n",
       "<p>106863 rows × 5 columns</p>\n",
       "</div>"
      ],
      "text/plain": [
       "                               Drug  References  \\\n",
       "2                      (+)-catechin  PMC6470784   \n",
       "3                 (+)-gallocatechin  PMC6470784   \n",
       "4                      (+)-naloxone  PMC5725546   \n",
       "6                   (-)-epicatechin  PMC4761526   \n",
       "7      (-)-epigallocatechin gallate  PMC9376584   \n",
       "...                             ...         ...   \n",
       "18616                    zosuquidar  PMC2258302   \n",
       "18617      zosuquidar hydrochloride  PMC8400349   \n",
       "18618   zosuquidar trihydrochloride  PMC5713259   \n",
       "18619                  zoxazolamine  PMC4963026   \n",
       "18622                       zymosan  PMC6017720   \n",
       "\n",
       "                                                  SMILES        Activity  \\\n",
       "2          C1C(C(OC2=CC(=CC(=C21)O)O)C3=CC(=C(C=C3)O)O)O  BCRP_inhibitor   \n",
       "3       C1C(C(OC2=CC(=CC(=C21)O)O)C3=CC(=C(C(=C3)O)O)O)O  BCRP_inhibitor   \n",
       "4        C=CCN1CCC23C4C(=O)CCC2(C1CC5=C3C(=C(C=C5)O)O4)O  BCRP_substrate   \n",
       "6          C1C(C(OC2=CC(=CC(=C21)O)O)C3=CC(=C(C=C3)O)O)O  BCRP_inhibitor   \n",
       "7      C1C(C(OC2=CC(=CC(=C21)O)O)C3=CC(=C(C(=C3)O)O)O...  BCRP_inhibitor   \n",
       "...                                                  ...             ...   \n",
       "18616  C1CN(CCN1CC(COC2=CC=CC3=C2C=CC=N3)O)C4C5=CC=CC...  BCRP_inhibitor   \n",
       "18617  C1CN(CCN1CC(COC2=CC=CC3=C2C=CC=N3)O)C4C5=CC=CC...  BCRP_inhibitor   \n",
       "18618  C1CN(CCN1CC(COC2=CC=CC3=C2C=CC=N3)O)C4C5=CC=CC...  BCRP_substrate   \n",
       "18619                           C1=CC2=C(C=C1Cl)N=C(O2)N  BCRP_substrate   \n",
       "18622                           C(C1C(C(C(C(O1)O)O)O)O)O  BCRP_inhibitor   \n",
       "\n",
       "       References_Mapped  \n",
       "2                      0  \n",
       "3                      0  \n",
       "4                      1  \n",
       "6                      2  \n",
       "7                      3  \n",
       "...                  ...  \n",
       "18616               4598  \n",
       "18617               5815  \n",
       "18618               3034  \n",
       "18619               1001  \n",
       "18622                209  \n",
       "\n",
       "[106863 rows x 5 columns]"
      ]
     },
     "execution_count": 90,
     "metadata": {},
     "output_type": "execute_result"
    }
   ],
   "source": [
    "exploded"
   ]
  },
  {
   "cell_type": "code",
   "execution_count": 91,
   "id": "2e08585c",
   "metadata": {},
   "outputs": [],
   "source": [
    "mappedpmcid =exploded.groupby('Drug').agg({\n",
    "    'References_Mapped': lambda x: list(x.unique())\n",
    "}).reset_index()"
   ]
  },
  {
   "cell_type": "code",
   "execution_count": 92,
   "id": "4d62a00b",
   "metadata": {},
   "outputs": [],
   "source": [
    "Final = Final.merge(mappedpmcid, how = \"inner\", on= \"Drug\")"
   ]
  },
  {
   "cell_type": "code",
   "execution_count": 136,
   "id": "693f73ff",
   "metadata": {},
   "outputs": [],
   "source": [
    "cid_1 = pd.read_csv(\"SMILES_CID_1.csv\")\n",
    "cid_1.drop(['Unnamed: 0'], axis = 1, inplace = True)\n",
    "cid_1 = cid_1.drop(['Synonyms'], axis = 1).dropna(how= \"any\")\n",
    "cid_1['CID'] = cid_1['SMILES'].apply(lambda x: x.split(\",\")[1])\n",
    "cid_1.rename({\"drug\": 'Drug'}, axis = 1, inplace = True)"
   ]
  },
  {
   "cell_type": "code",
   "execution_count": 142,
   "id": "031f950a",
   "metadata": {},
   "outputs": [
    {
     "data": {
      "text/html": [
       "<div>\n",
       "<style scoped>\n",
       "    .dataframe tbody tr th:only-of-type {\n",
       "        vertical-align: middle;\n",
       "    }\n",
       "\n",
       "    .dataframe tbody tr th {\n",
       "        vertical-align: top;\n",
       "    }\n",
       "\n",
       "    .dataframe thead th {\n",
       "        text-align: right;\n",
       "    }\n",
       "</style>\n",
       "<table border=\"1\" class=\"dataframe\">\n",
       "  <thead>\n",
       "    <tr style=\"text-align: right;\">\n",
       "      <th></th>\n",
       "      <th>Drug</th>\n",
       "      <th>SMILES</th>\n",
       "      <th>CID</th>\n",
       "    </tr>\n",
       "  </thead>\n",
       "  <tbody>\n",
       "    <tr>\n",
       "      <th>0</th>\n",
       "      <td>tyrosine</td>\n",
       "      <td>C1=CC(=CC=C1CC(C(=O)O)N)O,6057</td>\n",
       "      <td>6057</td>\n",
       "    </tr>\n",
       "    <tr>\n",
       "      <th>1</th>\n",
       "      <td>Chloroquine</td>\n",
       "      <td>CCN(CC)CCCC(C)NC1=C2C=CC(=CC2=NC=C1)Cl,2719</td>\n",
       "      <td>2719</td>\n",
       "    </tr>\n",
       "    <tr>\n",
       "      <th>2</th>\n",
       "      <td>Ciclosporin</td>\n",
       "      <td>CCC1C(=O)N(CC(=O)N(C(C(=O)NC(C(=O)N(C(C(=O)NC(...</td>\n",
       "      <td>5284373</td>\n",
       "    </tr>\n",
       "    <tr>\n",
       "      <th>5</th>\n",
       "      <td>ATP</td>\n",
       "      <td>C1=NC(=C2C(=N1)N(C=N2)C3C(C(C(O3)COP(=O)(O)OP(...</td>\n",
       "      <td>5957</td>\n",
       "    </tr>\n",
       "    <tr>\n",
       "      <th>6</th>\n",
       "      <td>cisplatin</td>\n",
       "      <td>N.N.Cl[Pt]Cl,5702198</td>\n",
       "      <td>5702198</td>\n",
       "    </tr>\n",
       "    <tr>\n",
       "      <th>...</th>\n",
       "      <td>...</td>\n",
       "      <td>...</td>\n",
       "      <td>...</td>\n",
       "    </tr>\n",
       "    <tr>\n",
       "      <th>9377</th>\n",
       "      <td>17-allylamino-17-demethoxygeldanamycin</td>\n",
       "      <td>CC1CC(C(C(C=C(C(C(C=CC=C(C(=O)NC2=CC(=O)C(=C(C...</td>\n",
       "      <td>6440175</td>\n",
       "    </tr>\n",
       "    <tr>\n",
       "      <th>9378</th>\n",
       "      <td>tanespimycin</td>\n",
       "      <td>CC1CC(C(C(C=C(C(C(C=CC=C(C(=O)NC2=CC(=O)C(=C(C...</td>\n",
       "      <td>6505803</td>\n",
       "    </tr>\n",
       "    <tr>\n",
       "      <th>9379</th>\n",
       "      <td>Geldanamycin</td>\n",
       "      <td>CC1CC(C(C(C=C(C(C(C=CC=C(C(=O)NC2=CC(=O)C(=C(C...</td>\n",
       "      <td>5288382</td>\n",
       "    </tr>\n",
       "    <tr>\n",
       "      <th>9380</th>\n",
       "      <td>Tanespimycin</td>\n",
       "      <td>CC1CC(C(C(C=C(C(C(C=CC=C(C(=O)NC2=CC(=O)C(=C(C...</td>\n",
       "      <td>6505803</td>\n",
       "    </tr>\n",
       "    <tr>\n",
       "      <th>9383</th>\n",
       "      <td>Zosuquidar trihydrochloride</td>\n",
       "      <td>C1CN(CCN1CC(COC2=CC=CC3=C2C=CC=N3)O)C4C5=CC=CC...</td>\n",
       "      <td>153997</td>\n",
       "    </tr>\n",
       "  </tbody>\n",
       "</table>\n",
       "<p>4796 rows × 3 columns</p>\n",
       "</div>"
      ],
      "text/plain": [
       "                                        Drug  \\\n",
       "0                                   tyrosine   \n",
       "1                                Chloroquine   \n",
       "2                                Ciclosporin   \n",
       "5                                        ATP   \n",
       "6                                  cisplatin   \n",
       "...                                      ...   \n",
       "9377  17-allylamino-17-demethoxygeldanamycin   \n",
       "9378                            tanespimycin   \n",
       "9379                            Geldanamycin   \n",
       "9380                            Tanespimycin   \n",
       "9383             Zosuquidar trihydrochloride   \n",
       "\n",
       "                                                 SMILES      CID  \n",
       "0                        C1=CC(=CC=C1CC(C(=O)O)N)O,6057     6057  \n",
       "1           CCN(CC)CCCC(C)NC1=C2C=CC(=CC2=NC=C1)Cl,2719     2719  \n",
       "2     CCC1C(=O)N(CC(=O)N(C(C(=O)NC(C(=O)N(C(C(=O)NC(...  5284373  \n",
       "5     C1=NC(=C2C(=N1)N(C=N2)C3C(C(C(O3)COP(=O)(O)OP(...     5957  \n",
       "6                                  N.N.Cl[Pt]Cl,5702198  5702198  \n",
       "...                                                 ...      ...  \n",
       "9377  CC1CC(C(C(C=C(C(C(C=CC=C(C(=O)NC2=CC(=O)C(=C(C...  6440175  \n",
       "9378  CC1CC(C(C(C=C(C(C(C=CC=C(C(=O)NC2=CC(=O)C(=C(C...  6505803  \n",
       "9379  CC1CC(C(C(C=C(C(C(C=CC=C(C(=O)NC2=CC(=O)C(=C(C...  5288382  \n",
       "9380  CC1CC(C(C(C=C(C(C(C=CC=C(C(=O)NC2=CC(=O)C(=C(C...  6505803  \n",
       "9383  C1CN(CCN1CC(COC2=CC=CC3=C2C=CC=N3)O)C4C5=CC=CC...   153997  \n",
       "\n",
       "[4796 rows x 3 columns]"
      ]
     },
     "execution_count": 142,
     "metadata": {},
     "output_type": "execute_result"
    }
   ],
   "source": [
    "cid_1"
   ]
  },
  {
   "cell_type": "code",
   "execution_count": 137,
   "id": "a85131b3",
   "metadata": {},
   "outputs": [],
   "source": [
    "cid_2 = pd.read_csv(\"SMILES_CID_2.csv\")\n",
    "cid_2.drop(['Unnamed: 0'], axis = 1, inplace = True)\n",
    "cid_2 = cid_2.drop(['Synonyms'], axis = 1).dropna(how= \"any\")\n",
    "cid_2['CID'] = cid_2['SMILES'].apply(lambda x: x.split(\",\")[1])\n",
    "cid_2.rename({\"drug\": 'Drug', 'CID': 'CID_2'}, axis = 1, inplace = True)"
   ]
  },
  {
   "cell_type": "code",
   "execution_count": 146,
   "id": "1deb56d9",
   "metadata": {
    "collapsed": true
   },
   "outputs": [
    {
     "ename": "MergeError",
     "evalue": "Passing 'suffixes' which cause duplicate columns {'SMILES_x'} is not allowed.",
     "output_type": "error",
     "traceback": [
      "\u001b[0;31m---------------------------------------------------------------------------\u001b[0m",
      "\u001b[0;31mMergeError\u001b[0m                                Traceback (most recent call last)",
      "Cell \u001b[0;32mIn[146], line 1\u001b[0m\n\u001b[0;32m----> 1\u001b[0m Final \u001b[38;5;241m=\u001b[39m \u001b[43mFinal\u001b[49m\u001b[38;5;241;43m.\u001b[39;49m\u001b[43mmerge\u001b[49m\u001b[43m(\u001b[49m\u001b[43mcid_1\u001b[49m\u001b[43m,\u001b[49m\u001b[43m \u001b[49m\u001b[43mhow\u001b[49m\u001b[43m \u001b[49m\u001b[38;5;241;43m=\u001b[39;49m\u001b[43m \u001b[49m\u001b[38;5;124;43m\"\u001b[39;49m\u001b[38;5;124;43mleft\u001b[39;49m\u001b[38;5;124;43m\"\u001b[39;49m\u001b[43m,\u001b[49m\u001b[43m \u001b[49m\u001b[43mon\u001b[49m\u001b[43m \u001b[49m\u001b[38;5;241;43m=\u001b[39;49m\u001b[43m \u001b[49m\u001b[38;5;124;43m'\u001b[39;49m\u001b[38;5;124;43mDrug\u001b[39;49m\u001b[38;5;124;43m'\u001b[39;49m\u001b[43m)\u001b[49m\n\u001b[1;32m      2\u001b[0m Final \u001b[38;5;241m=\u001b[39m Final\u001b[38;5;241m.\u001b[39mmerge(cid_2, how \u001b[38;5;241m=\u001b[39m \u001b[38;5;124m\"\u001b[39m\u001b[38;5;124mleft\u001b[39m\u001b[38;5;124m\"\u001b[39m, on\u001b[38;5;241m=\u001b[39m \u001b[38;5;124m'\u001b[39m\u001b[38;5;124mDrug\u001b[39m\u001b[38;5;124m'\u001b[39m)\n\u001b[1;32m      3\u001b[0m Final\n",
      "File \u001b[0;32m/opt/conda/lib/python3.10/site-packages/pandas/core/frame.py:10487\u001b[0m, in \u001b[0;36mDataFrame.merge\u001b[0;34m(self, right, how, on, left_on, right_on, left_index, right_index, sort, suffixes, copy, indicator, validate)\u001b[0m\n\u001b[1;32m  10468\u001b[0m \u001b[38;5;129m@Substitution\u001b[39m(\u001b[38;5;124m\"\u001b[39m\u001b[38;5;124m\"\u001b[39m)\n\u001b[1;32m  10469\u001b[0m \u001b[38;5;129m@Appender\u001b[39m(_merge_doc, indents\u001b[38;5;241m=\u001b[39m\u001b[38;5;241m2\u001b[39m)\n\u001b[1;32m  10470\u001b[0m \u001b[38;5;28;01mdef\u001b[39;00m \u001b[38;5;21mmerge\u001b[39m(\n\u001b[0;32m   (...)\u001b[0m\n\u001b[1;32m  10483\u001b[0m     validate: MergeValidate \u001b[38;5;241m|\u001b[39m \u001b[38;5;28;01mNone\u001b[39;00m \u001b[38;5;241m=\u001b[39m \u001b[38;5;28;01mNone\u001b[39;00m,\n\u001b[1;32m  10484\u001b[0m ) \u001b[38;5;241m-\u001b[39m\u001b[38;5;241m>\u001b[39m DataFrame:\n\u001b[1;32m  10485\u001b[0m     \u001b[38;5;28;01mfrom\u001b[39;00m \u001b[38;5;21;01mpandas\u001b[39;00m\u001b[38;5;21;01m.\u001b[39;00m\u001b[38;5;21;01mcore\u001b[39;00m\u001b[38;5;21;01m.\u001b[39;00m\u001b[38;5;21;01mreshape\u001b[39;00m\u001b[38;5;21;01m.\u001b[39;00m\u001b[38;5;21;01mmerge\u001b[39;00m \u001b[38;5;28;01mimport\u001b[39;00m merge\n\u001b[0;32m> 10487\u001b[0m     \u001b[38;5;28;01mreturn\u001b[39;00m \u001b[43mmerge\u001b[49m\u001b[43m(\u001b[49m\n\u001b[1;32m  10488\u001b[0m \u001b[43m        \u001b[49m\u001b[38;5;28;43mself\u001b[39;49m\u001b[43m,\u001b[49m\n\u001b[1;32m  10489\u001b[0m \u001b[43m        \u001b[49m\u001b[43mright\u001b[49m\u001b[43m,\u001b[49m\n\u001b[1;32m  10490\u001b[0m \u001b[43m        \u001b[49m\u001b[43mhow\u001b[49m\u001b[38;5;241;43m=\u001b[39;49m\u001b[43mhow\u001b[49m\u001b[43m,\u001b[49m\n\u001b[1;32m  10491\u001b[0m \u001b[43m        \u001b[49m\u001b[43mon\u001b[49m\u001b[38;5;241;43m=\u001b[39;49m\u001b[43mon\u001b[49m\u001b[43m,\u001b[49m\n\u001b[1;32m  10492\u001b[0m \u001b[43m        \u001b[49m\u001b[43mleft_on\u001b[49m\u001b[38;5;241;43m=\u001b[39;49m\u001b[43mleft_on\u001b[49m\u001b[43m,\u001b[49m\n\u001b[1;32m  10493\u001b[0m \u001b[43m        \u001b[49m\u001b[43mright_on\u001b[49m\u001b[38;5;241;43m=\u001b[39;49m\u001b[43mright_on\u001b[49m\u001b[43m,\u001b[49m\n\u001b[1;32m  10494\u001b[0m \u001b[43m        \u001b[49m\u001b[43mleft_index\u001b[49m\u001b[38;5;241;43m=\u001b[39;49m\u001b[43mleft_index\u001b[49m\u001b[43m,\u001b[49m\n\u001b[1;32m  10495\u001b[0m \u001b[43m        \u001b[49m\u001b[43mright_index\u001b[49m\u001b[38;5;241;43m=\u001b[39;49m\u001b[43mright_index\u001b[49m\u001b[43m,\u001b[49m\n\u001b[1;32m  10496\u001b[0m \u001b[43m        \u001b[49m\u001b[43msort\u001b[49m\u001b[38;5;241;43m=\u001b[39;49m\u001b[43msort\u001b[49m\u001b[43m,\u001b[49m\n\u001b[1;32m  10497\u001b[0m \u001b[43m        \u001b[49m\u001b[43msuffixes\u001b[49m\u001b[38;5;241;43m=\u001b[39;49m\u001b[43msuffixes\u001b[49m\u001b[43m,\u001b[49m\n\u001b[1;32m  10498\u001b[0m \u001b[43m        \u001b[49m\u001b[43mcopy\u001b[49m\u001b[38;5;241;43m=\u001b[39;49m\u001b[43mcopy\u001b[49m\u001b[43m,\u001b[49m\n\u001b[1;32m  10499\u001b[0m \u001b[43m        \u001b[49m\u001b[43mindicator\u001b[49m\u001b[38;5;241;43m=\u001b[39;49m\u001b[43mindicator\u001b[49m\u001b[43m,\u001b[49m\n\u001b[1;32m  10500\u001b[0m \u001b[43m        \u001b[49m\u001b[43mvalidate\u001b[49m\u001b[38;5;241;43m=\u001b[39;49m\u001b[43mvalidate\u001b[49m\u001b[43m,\u001b[49m\n\u001b[1;32m  10501\u001b[0m \u001b[43m    \u001b[49m\u001b[43m)\u001b[49m\n",
      "File \u001b[0;32m/opt/conda/lib/python3.10/site-packages/pandas/core/reshape/merge.py:183\u001b[0m, in \u001b[0;36mmerge\u001b[0;34m(left, right, how, on, left_on, right_on, left_index, right_index, sort, suffixes, copy, indicator, validate)\u001b[0m\n\u001b[1;32m    168\u001b[0m \u001b[38;5;28;01melse\u001b[39;00m:\n\u001b[1;32m    169\u001b[0m     op \u001b[38;5;241m=\u001b[39m _MergeOperation(\n\u001b[1;32m    170\u001b[0m         left_df,\n\u001b[1;32m    171\u001b[0m         right_df,\n\u001b[0;32m   (...)\u001b[0m\n\u001b[1;32m    181\u001b[0m         validate\u001b[38;5;241m=\u001b[39mvalidate,\n\u001b[1;32m    182\u001b[0m     )\n\u001b[0;32m--> 183\u001b[0m     \u001b[38;5;28;01mreturn\u001b[39;00m \u001b[43mop\u001b[49m\u001b[38;5;241;43m.\u001b[39;49m\u001b[43mget_result\u001b[49m\u001b[43m(\u001b[49m\u001b[43mcopy\u001b[49m\u001b[38;5;241;43m=\u001b[39;49m\u001b[43mcopy\u001b[49m\u001b[43m)\u001b[49m\n",
      "File \u001b[0;32m/opt/conda/lib/python3.10/site-packages/pandas/core/reshape/merge.py:885\u001b[0m, in \u001b[0;36m_MergeOperation.get_result\u001b[0;34m(self, copy)\u001b[0m\n\u001b[1;32m    881\u001b[0m     \u001b[38;5;28mself\u001b[39m\u001b[38;5;241m.\u001b[39mleft, \u001b[38;5;28mself\u001b[39m\u001b[38;5;241m.\u001b[39mright \u001b[38;5;241m=\u001b[39m \u001b[38;5;28mself\u001b[39m\u001b[38;5;241m.\u001b[39m_indicator_pre_merge(\u001b[38;5;28mself\u001b[39m\u001b[38;5;241m.\u001b[39mleft, \u001b[38;5;28mself\u001b[39m\u001b[38;5;241m.\u001b[39mright)\n\u001b[1;32m    883\u001b[0m join_index, left_indexer, right_indexer \u001b[38;5;241m=\u001b[39m \u001b[38;5;28mself\u001b[39m\u001b[38;5;241m.\u001b[39m_get_join_info()\n\u001b[0;32m--> 885\u001b[0m result \u001b[38;5;241m=\u001b[39m \u001b[38;5;28;43mself\u001b[39;49m\u001b[38;5;241;43m.\u001b[39;49m\u001b[43m_reindex_and_concat\u001b[49m\u001b[43m(\u001b[49m\n\u001b[1;32m    886\u001b[0m \u001b[43m    \u001b[49m\u001b[43mjoin_index\u001b[49m\u001b[43m,\u001b[49m\u001b[43m \u001b[49m\u001b[43mleft_indexer\u001b[49m\u001b[43m,\u001b[49m\u001b[43m \u001b[49m\u001b[43mright_indexer\u001b[49m\u001b[43m,\u001b[49m\u001b[43m \u001b[49m\u001b[43mcopy\u001b[49m\u001b[38;5;241;43m=\u001b[39;49m\u001b[43mcopy\u001b[49m\n\u001b[1;32m    887\u001b[0m \u001b[43m\u001b[49m\u001b[43m)\u001b[49m\n\u001b[1;32m    888\u001b[0m result \u001b[38;5;241m=\u001b[39m result\u001b[38;5;241m.\u001b[39m__finalize__(\u001b[38;5;28mself\u001b[39m, method\u001b[38;5;241m=\u001b[39m\u001b[38;5;28mself\u001b[39m\u001b[38;5;241m.\u001b[39m_merge_type)\n\u001b[1;32m    890\u001b[0m \u001b[38;5;28;01mif\u001b[39;00m \u001b[38;5;28mself\u001b[39m\u001b[38;5;241m.\u001b[39mindicator:\n",
      "File \u001b[0;32m/opt/conda/lib/python3.10/site-packages/pandas/core/reshape/merge.py:837\u001b[0m, in \u001b[0;36m_MergeOperation._reindex_and_concat\u001b[0;34m(self, join_index, left_indexer, right_indexer, copy)\u001b[0m\n\u001b[1;32m    834\u001b[0m left \u001b[38;5;241m=\u001b[39m \u001b[38;5;28mself\u001b[39m\u001b[38;5;241m.\u001b[39mleft[:]\n\u001b[1;32m    835\u001b[0m right \u001b[38;5;241m=\u001b[39m \u001b[38;5;28mself\u001b[39m\u001b[38;5;241m.\u001b[39mright[:]\n\u001b[0;32m--> 837\u001b[0m llabels, rlabels \u001b[38;5;241m=\u001b[39m \u001b[43m_items_overlap_with_suffix\u001b[49m\u001b[43m(\u001b[49m\n\u001b[1;32m    838\u001b[0m \u001b[43m    \u001b[49m\u001b[38;5;28;43mself\u001b[39;49m\u001b[38;5;241;43m.\u001b[39;49m\u001b[43mleft\u001b[49m\u001b[38;5;241;43m.\u001b[39;49m\u001b[43m_info_axis\u001b[49m\u001b[43m,\u001b[49m\u001b[43m \u001b[49m\u001b[38;5;28;43mself\u001b[39;49m\u001b[38;5;241;43m.\u001b[39;49m\u001b[43mright\u001b[49m\u001b[38;5;241;43m.\u001b[39;49m\u001b[43m_info_axis\u001b[49m\u001b[43m,\u001b[49m\u001b[43m \u001b[49m\u001b[38;5;28;43mself\u001b[39;49m\u001b[38;5;241;43m.\u001b[39;49m\u001b[43msuffixes\u001b[49m\n\u001b[1;32m    839\u001b[0m \u001b[43m\u001b[49m\u001b[43m)\u001b[49m\n\u001b[1;32m    841\u001b[0m \u001b[38;5;28;01mif\u001b[39;00m left_indexer \u001b[38;5;129;01mis\u001b[39;00m \u001b[38;5;129;01mnot\u001b[39;00m \u001b[38;5;28;01mNone\u001b[39;00m \u001b[38;5;129;01mand\u001b[39;00m \u001b[38;5;129;01mnot\u001b[39;00m is_range_indexer(left_indexer, \u001b[38;5;28mlen\u001b[39m(left)):\n\u001b[1;32m    842\u001b[0m     \u001b[38;5;66;03m# Pinning the index here (and in the right code just below) is not\u001b[39;00m\n\u001b[1;32m    843\u001b[0m     \u001b[38;5;66;03m#  necessary, but makes the `.take` more performant if we have e.g.\u001b[39;00m\n\u001b[1;32m    844\u001b[0m     \u001b[38;5;66;03m#  a MultiIndex for left.index.\u001b[39;00m\n\u001b[1;32m    845\u001b[0m     lmgr \u001b[38;5;241m=\u001b[39m left\u001b[38;5;241m.\u001b[39m_mgr\u001b[38;5;241m.\u001b[39mreindex_indexer(\n\u001b[1;32m    846\u001b[0m         join_index,\n\u001b[1;32m    847\u001b[0m         left_indexer,\n\u001b[0;32m   (...)\u001b[0m\n\u001b[1;32m    852\u001b[0m         use_na_proxy\u001b[38;5;241m=\u001b[39m\u001b[38;5;28;01mTrue\u001b[39;00m,\n\u001b[1;32m    853\u001b[0m     )\n",
      "File \u001b[0;32m/opt/conda/lib/python3.10/site-packages/pandas/core/reshape/merge.py:2697\u001b[0m, in \u001b[0;36m_items_overlap_with_suffix\u001b[0;34m(left, right, suffixes)\u001b[0m\n\u001b[1;32m   2695\u001b[0m     dups\u001b[38;5;241m.\u001b[39mextend(rlabels[(rlabels\u001b[38;5;241m.\u001b[39mduplicated()) \u001b[38;5;241m&\u001b[39m (\u001b[38;5;241m~\u001b[39mright\u001b[38;5;241m.\u001b[39mduplicated())]\u001b[38;5;241m.\u001b[39mtolist())\n\u001b[1;32m   2696\u001b[0m \u001b[38;5;28;01mif\u001b[39;00m dups:\n\u001b[0;32m-> 2697\u001b[0m     \u001b[38;5;28;01mraise\u001b[39;00m MergeError(\n\u001b[1;32m   2698\u001b[0m         \u001b[38;5;124mf\u001b[39m\u001b[38;5;124m\"\u001b[39m\u001b[38;5;124mPassing \u001b[39m\u001b[38;5;124m'\u001b[39m\u001b[38;5;124msuffixes\u001b[39m\u001b[38;5;124m'\u001b[39m\u001b[38;5;124m which cause duplicate columns \u001b[39m\u001b[38;5;132;01m{\u001b[39;00m\u001b[38;5;28mset\u001b[39m(dups)\u001b[38;5;132;01m}\u001b[39;00m\u001b[38;5;124m is \u001b[39m\u001b[38;5;124m\"\u001b[39m\n\u001b[1;32m   2699\u001b[0m         \u001b[38;5;124mf\u001b[39m\u001b[38;5;124m\"\u001b[39m\u001b[38;5;124mnot allowed.\u001b[39m\u001b[38;5;124m\"\u001b[39m,\n\u001b[1;32m   2700\u001b[0m     )\n\u001b[1;32m   2702\u001b[0m \u001b[38;5;28;01mreturn\u001b[39;00m llabels, rlabels\n",
      "\u001b[0;31mMergeError\u001b[0m: Passing 'suffixes' which cause duplicate columns {'SMILES_x'} is not allowed."
     ]
    }
   ],
   "source": [
    "Final = Final.merge(cid_1, how = \"left\", on = 'Drug')\n",
    "Final = Final.merge(cid_2, how = \"left\", on= 'Drug')"
   ]
  },
  {
   "cell_type": "code",
   "execution_count": 148,
   "id": "5700dcfd",
   "metadata": {},
   "outputs": [],
   "source": [
    "Final.drop(['SMILES_y', 'SMILES'], axis = 1, inplace = True)"
   ]
  },
  {
   "cell_type": "code",
   "execution_count": 149,
   "id": "3c5721d3",
   "metadata": {},
   "outputs": [
    {
     "data": {
      "text/html": [
       "<div>\n",
       "<style scoped>\n",
       "    .dataframe tbody tr th:only-of-type {\n",
       "        vertical-align: middle;\n",
       "    }\n",
       "\n",
       "    .dataframe tbody tr th {\n",
       "        vertical-align: top;\n",
       "    }\n",
       "\n",
       "    .dataframe thead th {\n",
       "        text-align: right;\n",
       "    }\n",
       "</style>\n",
       "<table border=\"1\" class=\"dataframe\">\n",
       "  <thead>\n",
       "    <tr style=\"text-align: right;\">\n",
       "      <th></th>\n",
       "      <th>Drug</th>\n",
       "      <th>References</th>\n",
       "      <th>SMILES_x</th>\n",
       "      <th>Activity</th>\n",
       "      <th>References_Mapped</th>\n",
       "      <th>CID</th>\n",
       "      <th>CID_2</th>\n",
       "    </tr>\n",
       "  </thead>\n",
       "  <tbody>\n",
       "    <tr>\n",
       "      <th>0</th>\n",
       "      <td>(+)-catechin</td>\n",
       "      <td>[PMC6470784]</td>\n",
       "      <td>C1C(C(OC2=CC(=CC(=C21)O)O)C3=CC(=C(C=C3)O)O)O</td>\n",
       "      <td>BCRP_inhibitor</td>\n",
       "      <td>[0]</td>\n",
       "      <td>NaN</td>\n",
       "      <td>9064</td>\n",
       "    </tr>\n",
       "    <tr>\n",
       "      <th>1</th>\n",
       "      <td>(+)-gallocatechin</td>\n",
       "      <td>[PMC6470784]</td>\n",
       "      <td>C1C(C(OC2=CC(=CC(=C21)O)O)C3=CC(=C(C(=C3)O)O)O)O</td>\n",
       "      <td>BCRP_inhibitor</td>\n",
       "      <td>[0]</td>\n",
       "      <td>NaN</td>\n",
       "      <td>65084</td>\n",
       "    </tr>\n",
       "    <tr>\n",
       "      <th>2</th>\n",
       "      <td>(+)-naloxone</td>\n",
       "      <td>[PMC5725546]</td>\n",
       "      <td>C=CCN1CCC23C4C(=O)CCC2(C1CC5=C3C(=C(C=C5)O)O4)O</td>\n",
       "      <td>BCRP_substrate</td>\n",
       "      <td>[1]</td>\n",
       "      <td>NaN</td>\n",
       "      <td>5491858</td>\n",
       "    </tr>\n",
       "    <tr>\n",
       "      <th>3</th>\n",
       "      <td>(-)-epicatechin</td>\n",
       "      <td>[PMC4761526]</td>\n",
       "      <td>C1C(C(OC2=CC(=CC(=C21)O)O)C3=CC(=C(C=C3)O)O)O</td>\n",
       "      <td>BCRP_inhibitor</td>\n",
       "      <td>[2]</td>\n",
       "      <td>NaN</td>\n",
       "      <td>72276</td>\n",
       "    </tr>\n",
       "    <tr>\n",
       "      <th>4</th>\n",
       "      <td>(-)-epigallocatechin gallate</td>\n",
       "      <td>[PMC9376584]</td>\n",
       "      <td>C1C(C(OC2=CC(=CC(=C21)O)O)C3=CC(=C(C(=C3)O)O)O...</td>\n",
       "      <td>BCRP_inhibitor</td>\n",
       "      <td>[3]</td>\n",
       "      <td>65064</td>\n",
       "      <td>NaN</td>\n",
       "    </tr>\n",
       "    <tr>\n",
       "      <th>...</th>\n",
       "      <td>...</td>\n",
       "      <td>...</td>\n",
       "      <td>...</td>\n",
       "      <td>...</td>\n",
       "      <td>...</td>\n",
       "      <td>...</td>\n",
       "      <td>...</td>\n",
       "    </tr>\n",
       "    <tr>\n",
       "      <th>8089</th>\n",
       "      <td>zosuquidar</td>\n",
       "      <td>[PMC10575401, PMC10457872, PMC10353158, PMC103...</td>\n",
       "      <td>C1CN(CCN1CC(COC2=CC=CC3=C2C=CC=N3)O)C4C5=CC=CC...</td>\n",
       "      <td>BCRP_inhibitor</td>\n",
       "      <td>[4088, 8501, 1520, 1561, 5197, 1588, 1595, 159...</td>\n",
       "      <td>3036703</td>\n",
       "      <td>NaN</td>\n",
       "    </tr>\n",
       "    <tr>\n",
       "      <th>8090</th>\n",
       "      <td>zosuquidar hydrochloride</td>\n",
       "      <td>[PMC8400349]</td>\n",
       "      <td>C1CN(CCN1CC(COC2=CC=CC3=C2C=CC=N3)O)C4C5=CC=CC...</td>\n",
       "      <td>BCRP_inhibitor</td>\n",
       "      <td>[5815]</td>\n",
       "      <td>134159522</td>\n",
       "      <td>NaN</td>\n",
       "    </tr>\n",
       "    <tr>\n",
       "      <th>8091</th>\n",
       "      <td>zosuquidar trihydrochloride</td>\n",
       "      <td>[PMC5713259]</td>\n",
       "      <td>C1CN(CCN1CC(COC2=CC=CC3=C2C=CC=N3)O)C4C5=CC=CC...</td>\n",
       "      <td>BCRP_substrate</td>\n",
       "      <td>[3034]</td>\n",
       "      <td>NaN</td>\n",
       "      <td>153997</td>\n",
       "    </tr>\n",
       "    <tr>\n",
       "      <th>8092</th>\n",
       "      <td>zoxazolamine</td>\n",
       "      <td>[PMC4963026]</td>\n",
       "      <td>C1=CC2=C(C=C1Cl)N=C(O2)N</td>\n",
       "      <td>BCRP_substrate</td>\n",
       "      <td>[1001]</td>\n",
       "      <td>NaN</td>\n",
       "      <td>6103</td>\n",
       "    </tr>\n",
       "    <tr>\n",
       "      <th>8093</th>\n",
       "      <td>zymosan</td>\n",
       "      <td>[PMC6017720]</td>\n",
       "      <td>C(C1C(C(C(C(O1)O)O)O)O)O</td>\n",
       "      <td>BCRP_inhibitor</td>\n",
       "      <td>[209]</td>\n",
       "      <td>NaN</td>\n",
       "      <td>64689</td>\n",
       "    </tr>\n",
       "  </tbody>\n",
       "</table>\n",
       "<p>8094 rows × 7 columns</p>\n",
       "</div>"
      ],
      "text/plain": [
       "                              Drug  \\\n",
       "0                     (+)-catechin   \n",
       "1                (+)-gallocatechin   \n",
       "2                     (+)-naloxone   \n",
       "3                  (-)-epicatechin   \n",
       "4     (-)-epigallocatechin gallate   \n",
       "...                            ...   \n",
       "8089                    zosuquidar   \n",
       "8090      zosuquidar hydrochloride   \n",
       "8091   zosuquidar trihydrochloride   \n",
       "8092                  zoxazolamine   \n",
       "8093                       zymosan   \n",
       "\n",
       "                                             References  \\\n",
       "0                                          [PMC6470784]   \n",
       "1                                          [PMC6470784]   \n",
       "2                                          [PMC5725546]   \n",
       "3                                          [PMC4761526]   \n",
       "4                                          [PMC9376584]   \n",
       "...                                                 ...   \n",
       "8089  [PMC10575401, PMC10457872, PMC10353158, PMC103...   \n",
       "8090                                       [PMC8400349]   \n",
       "8091                                       [PMC5713259]   \n",
       "8092                                       [PMC4963026]   \n",
       "8093                                       [PMC6017720]   \n",
       "\n",
       "                                               SMILES_x        Activity  \\\n",
       "0         C1C(C(OC2=CC(=CC(=C21)O)O)C3=CC(=C(C=C3)O)O)O  BCRP_inhibitor   \n",
       "1      C1C(C(OC2=CC(=CC(=C21)O)O)C3=CC(=C(C(=C3)O)O)O)O  BCRP_inhibitor   \n",
       "2       C=CCN1CCC23C4C(=O)CCC2(C1CC5=C3C(=C(C=C5)O)O4)O  BCRP_substrate   \n",
       "3         C1C(C(OC2=CC(=CC(=C21)O)O)C3=CC(=C(C=C3)O)O)O  BCRP_inhibitor   \n",
       "4     C1C(C(OC2=CC(=CC(=C21)O)O)C3=CC(=C(C(=C3)O)O)O...  BCRP_inhibitor   \n",
       "...                                                 ...             ...   \n",
       "8089  C1CN(CCN1CC(COC2=CC=CC3=C2C=CC=N3)O)C4C5=CC=CC...  BCRP_inhibitor   \n",
       "8090  C1CN(CCN1CC(COC2=CC=CC3=C2C=CC=N3)O)C4C5=CC=CC...  BCRP_inhibitor   \n",
       "8091  C1CN(CCN1CC(COC2=CC=CC3=C2C=CC=N3)O)C4C5=CC=CC...  BCRP_substrate   \n",
       "8092                           C1=CC2=C(C=C1Cl)N=C(O2)N  BCRP_substrate   \n",
       "8093                           C(C1C(C(C(C(O1)O)O)O)O)O  BCRP_inhibitor   \n",
       "\n",
       "                                      References_Mapped        CID    CID_2  \n",
       "0                                                   [0]        NaN     9064  \n",
       "1                                                   [0]        NaN    65084  \n",
       "2                                                   [1]        NaN  5491858  \n",
       "3                                                   [2]        NaN    72276  \n",
       "4                                                   [3]      65064      NaN  \n",
       "...                                                 ...        ...      ...  \n",
       "8089  [4088, 8501, 1520, 1561, 5197, 1588, 1595, 159...    3036703      NaN  \n",
       "8090                                             [5815]  134159522      NaN  \n",
       "8091                                             [3034]        NaN   153997  \n",
       "8092                                             [1001]        NaN     6103  \n",
       "8093                                              [209]        NaN    64689  \n",
       "\n",
       "[8094 rows x 7 columns]"
      ]
     },
     "execution_count": 149,
     "metadata": {},
     "output_type": "execute_result"
    }
   ],
   "source": [
    "Final"
   ]
  },
  {
   "cell_type": "code",
   "execution_count": 151,
   "id": "2588d506",
   "metadata": {},
   "outputs": [],
   "source": [
    "Final['PubChem_CID'] = Final['CID'].combine_first(Final['CID_2'])"
   ]
  },
  {
   "cell_type": "code",
   "execution_count": 153,
   "id": "ae94ce56",
   "metadata": {},
   "outputs": [],
   "source": [
    "Final.drop(['CID', 'CID_2'], inplace = True, axis = 1)"
   ]
  },
  {
   "cell_type": "code",
   "execution_count": 155,
   "id": "8e9795f5",
   "metadata": {},
   "outputs": [],
   "source": [
    "Final.rename({\"SMILES_x\": 'SMILES'}, axis = 1, inplace = True)"
   ]
  },
  {
   "cell_type": "code",
   "execution_count": 157,
   "id": "3b1aaa35",
   "metadata": {},
   "outputs": [],
   "source": [
    "Final.to_csv(\"training.tsv\", \"\\t\")"
   ]
  },
  {
   "cell_type": "code",
   "execution_count": 115,
   "id": "9339748c",
   "metadata": {},
   "outputs": [],
   "source": [
    "unique_values_df.to_csv(\"references.tsv\", '\\t')"
   ]
  },
  {
   "cell_type": "code",
   "execution_count": 109,
   "id": "64e62243",
   "metadata": {},
   "outputs": [
    {
     "data": {
      "text/plain": [
       "44.61329379787497"
      ]
     },
     "execution_count": 109,
     "metadata": {},
     "output_type": "execute_result"
    }
   ],
   "source": [
    "Final['Activity'].value_counts()['BCRP_inhibitor']*100/len(Final) "
   ]
  },
  {
   "cell_type": "code",
   "execution_count": 111,
   "id": "a6d8d718",
   "metadata": {},
   "outputs": [],
   "source": [
    "metrics_summary = pd.DataFrame({'Team_Name': \"Mihir Padsumbiya\", \n",
    "                               'Team_Contact': 'mxp210085@utdallas.edu', \n",
    "                               'Number of Samples': len(Final),\n",
    "                               'Number of References': len(unique_values_df),\n",
    "                               'Number of Inhibitors': Final['Activity'].value_counts()['BCRP_inhibitor'],\n",
    "                               'Number of Substrate': Final['Activity'].value_counts()['BCRP_substrate'],\n",
    "                               'Percent_minority': 44.6,\n",
    "                               'Number of Smiles': len(Final),\n",
    "                               'Percent_Smiles': 1.0}, index = [1])"
   ]
  },
  {
   "cell_type": "code",
   "execution_count": 114,
   "id": "33801166",
   "metadata": {},
   "outputs": [],
   "source": [
    "metrics_summary.to_csv(\"metrics_summary.tsv\", \"\\t\")"
   ]
  }
 ],
 "metadata": {
  "kernelspec": {
   "display_name": "Python 3 (ipykernel)",
   "language": "python",
   "name": "python3"
  },
  "language_info": {
   "codemirror_mode": {
    "name": "ipython",
    "version": 3
   },
   "file_extension": ".py",
   "mimetype": "text/x-python",
   "name": "python",
   "nbconvert_exporter": "python",
   "pygments_lexer": "ipython3",
   "version": "3.10.10"
  }
 },
 "nbformat": 4,
 "nbformat_minor": 5
}
